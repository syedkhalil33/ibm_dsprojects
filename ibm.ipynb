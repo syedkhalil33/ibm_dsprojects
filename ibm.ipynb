{
 "cells": [
  {
   "attachments": {},
   "cell_type": "markdown",
   "metadata": {},
   "source": [
    "# My Jupyter Notebook on IBM Watson Studio"
   ]
  },
  {
   "attachments": {},
   "cell_type": "markdown",
   "metadata": {},
   "source": [
    "### **Syed Khalil** \n",
    "#### Aspiring Data Scientist"
   ]
  },
  {
   "attachments": {},
   "cell_type": "markdown",
   "metadata": {},
   "source": [
    "##### *I am interested in data science because I want to work with ML models and figure out how Ai actually works.*"
   ]
  },
  {
   "attachments": {},
   "cell_type": "markdown",
   "metadata": {},
   "source": [
    "#### Print out hello world"
   ]
  },
  {
   "cell_type": "code",
   "execution_count": null,
   "metadata": {},
   "outputs": [],
   "source": [
    "print(\"Hello World\")"
   ]
  },
  {
   "attachments": {},
   "cell_type": "markdown",
   "metadata": {},
   "source": [
    "### Types of Machine Learning\n",
    "- Supervised \n",
    "- Unsupervised\n",
    "- Reinforcement Learning\n",
    "\n",
    "____\n",
    "### Robots vs Humans Tally\n",
    "\n",
    "|Name |Sport|Wins | \n",
    "|-----|:-----|:-----:|\n",
    "|Robot |Chess|5 |\n",
    "|Human |Chess|2 |\n",
    "\n",
    "____"
   ]
  }
 ],
 "metadata": {
  "kernelspec": {
   "display_name": "Python 3",
   "language": "python",
   "name": "python3"
  },
  "language_info": {
   "name": "python",
   "version": "3.11.1"
  },
  "orig_nbformat": 4,
  "vscode": {
   "interpreter": {
    "hash": "1ef29829cb59e3b40434c8ff9eda2e301d4bee12a6d678195cb403e6dd8f0bac"
   }
  }
 },
 "nbformat": 4,
 "nbformat_minor": 2
}
